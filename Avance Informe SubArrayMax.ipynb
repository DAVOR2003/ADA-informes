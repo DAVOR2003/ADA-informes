{
  "nbformat": 4,
  "nbformat_minor": 0,
  "metadata": {
    "colab": {
      "name": "Untitled2.ipynb",
      "provenance": [],
      "authorship_tag": "ABX9TyPjp+SVUZh/2a0i6qA2O26O",
      "include_colab_link": true
    },
    "kernelspec": {
      "name": "python3",
      "display_name": "Python 3"
    },
    "language_info": {
      "name": "python"
    }
  },
  "cells": [
    {
      "cell_type": "markdown",
      "metadata": {
        "id": "view-in-github",
        "colab_type": "text"
      },
      "source": [
        "<a href=\"https://colab.research.google.com/github/JavierMarin24/ADA-Informes/blob/main/Avance%20Informe%20SubArrayMax.ipynb\" target=\"_parent\"><img src=\"https://colab.research.google.com/assets/colab-badge.svg\" alt=\"Open In Colab\"/></a>"
      ]
    },
    {
      "cell_type": "markdown",
      "source": [
        "# **1.Problema de Optimización**\n",
        "\n",
        "\n",
        "Los problemas de optimización son de los más comunes que se pueden encontrar en cualquier tipo de trabajo. Estos buscan la **máxima eficiencia** para la resolución de problemas, en otras palabras, maximizan o minimizan el valor de una función.\n",
        "\n",
        "El problema planteado en este informe es el de buscar el **sub arreglo** que contiene la **máxima suma** de valores de los elementos de un arreglo de largo **n**.\n",
        "\n",
        "A continuación se presentan la entrada y salida esperada para este problema:\n",
        "\n",
        "**Entrada**: Arreglo de **n** datos comparables.\n",
        "\n",
        "**Salida**: **Sub-arreglo** que va desde **i** hasta **j** siendo **i<j<n** y cuya suma de valores sea mayor o igual a la suma de los elementos de los demás sub-arreglos que se pueden formar desde el arreglo original."
      ],
      "metadata": {
        "id": "inejUV55rrSE"
      }
    },
    {
      "cell_type": "markdown",
      "source": [
        "### **1.1 Ejemplo**"
      ],
      "metadata": {
        "id": "or5y5OCEwbOr"
      }
    },
    {
      "cell_type": "markdown",
      "source": [
        "![sub array maximo imagen de ejemplo.png](data:image/png;base64,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)"
      ],
      "metadata": {
        "id": "GQjk2Q70wAoE"
      }
    },
    {
      "cell_type": "markdown",
      "source": [
        "En la imagen se muestra un arreglo de números enteros de largo **n=9** donde el máximo sub-arreglo se marca en **color verde**, el cual va desde **arreglo[3]** hasta **arreglo[6]**, donde la **suma** de sus elementos (máxima) es **12**.\n",
        "\n",
        "Cumpliendo con lo descrito anteiormente, **no existe un sub-arreglo cuya sumatoria de sus elementos sea mayor a 12**."
      ],
      "metadata": {
        "id": "PhtYqlXJwfgF"
      }
    },
    {
      "cell_type": "markdown",
      "source": [
        "#**2. Descripción del Sub-Arreglo Máximo**\n",
        "\n",
        "El algortimo recibe como parametro un arreglo o lista con **n** elementos comparables y retornará el sub-arreglo con la suma máxima de elementos.\n",
        "\n",
        "1. El algoritmo se implementa de forma recursiva, divide al arreglo en 2 sub arreglos de largo N/2.\n",
        "2. Se repite el paso 1 hasta obtener cada elemento del arreglo en un sub-arreglo independiente.\n",
        "3. Se busca el sub-arreglo máximo de cada mitad recursivamente.\n",
        "4. Luego se busca el sub array máximo que incluye al medio del arreglo.\n",
        "5. Se retorna el máximo sub-arreglo encontrado.\n",
        "\n"
      ],
      "metadata": {
        "id": "C7kuxORswZWl"
      }
    },
    {
      "cell_type": "code",
      "execution_count": 3,
      "metadata": {
        "colab": {
          "base_uri": "https://localhost:8080/"
        },
        "id": "iq_ZV3dRHYP-",
        "outputId": "afedd7a8-9c10-4831-c8b7-8bbd7aafe464"
      },
      "outputs": [
        {
          "output_type": "stream",
          "name": "stdout",
          "text": [
            "Arreglo de entrada:  [76, 8, 70, -37, 5, -72]\n",
            "SubArreglo Izquierdo:  [76, 8, 70]\n",
            "SubArreglo Derecho:  [-37, 5, -72] \n",
            "\n",
            "SubArreglo Izquierdo:  [76]\n",
            "SubArreglo Derecho:  [8, 70] \n",
            "\n",
            "SubArreglo Izquierdo:  [8]\n",
            "SubArreglo Derecho:  [70] \n",
            "\n",
            "Suma izquierda: 8\n",
            "Suma derecha: 70\n",
            "Maximo Subarreglo que pasa por el medio:  \u001b[34m\u001b[0m , \u001b[34m8, 70\u001b[0m \n",
            "\n",
            "Suma izquierda: 76\n",
            "Suma derecha: 78\n",
            "Maximo Subarreglo que pasa por el medio:  \u001b[34m76\u001b[0m , \u001b[34m8, 70\u001b[0m \n",
            "\n",
            "SubArreglo Izquierdo:  [-37]\n",
            "SubArreglo Derecho:  [5, -72] \n",
            "\n",
            "SubArreglo Izquierdo:  [5]\n",
            "SubArreglo Derecho:  [-72] \n",
            "\n",
            "Suma izquierda: 5\n",
            "Suma derecha: -72\n",
            "Maximo Subarreglo que pasa por el medio:  \u001b[34m\u001b[0m , \u001b[34m5, -72\u001b[0m \n",
            "\n",
            "Suma izquierda: -37\n",
            "Suma derecha: 5\n",
            "Maximo Subarreglo que pasa por el medio:  \u001b[34m\u001b[0m , \u001b[34m-37, 5\u001b[0m \n",
            "\n",
            "Suma izquierda: 154\n",
            "Suma derecha: -32\n",
            "Maximo Subarreglo que pasa por el medio:  \u001b[34m76, 8, 70\u001b[0m , \u001b[34m-37, 5\u001b[0m \n",
            "\n",
            "La suma maxima es:  154\n",
            "El arreglo comienza en la posición 0 y termina en la posición 2\n"
          ]
        }
      ],
      "source": [
        "import math\n",
        "import random\n",
        "from termcolor import colored\n",
        "\n",
        "# Función obtiene el máximo subarreglo que cruza por el medio.\n",
        "def maxMidSubArray(arr, mid, verbose):\n",
        "  sum = 0\n",
        "  maxLeft = -math.inf\n",
        "  low = 0  # Guarda la posición inicial del máximo subarreglo.\n",
        "\n",
        "  # Se obtiene subArreglo mas grande de la izquierda.\n",
        "  for i in range(mid - 1, -1, -1):\n",
        "    sum = sum + arr[i]\n",
        "    \n",
        "    if (sum > maxLeft):\n",
        "       maxLeft = sum\n",
        "       low = i\n",
        "  \n",
        "  sum = 0\n",
        "  maxRight = -math.inf\n",
        "  high = len(arr) - 1 # Guarda la posición final del máximo subarreglo.\n",
        "  \n",
        "  # Se obtiene el subarreglo maximo de la derecha.\n",
        "  for i in range (mid, len(arr)):\n",
        "    sum = sum + arr[i]\n",
        "    if (sum > maxRight):\n",
        "      maxRight = sum\n",
        "      high = i\n",
        "  if (verbose == True):\n",
        "    print(\"Suma izquierda:\", maxLeft)\n",
        "    print(\"Suma derecha:\", maxRight)\n",
        "\n",
        "  maxSum = maxLeft + maxRight\n",
        "\n",
        "  # Si verbose es True, se muestran el subarreglo mayor que cruza por el medio.\n",
        "  if (verbose == True):\n",
        "    \n",
        "    if (len (arr[low:high + 1]) > 1):\n",
        "      print (\"Maximo Subarreglo que pasa por el medio: \", colored(f\"{str(arr[low: high-1])[1:-1]}\",\"blue\"), \",\", colored(f\"{str(arr[high-1:high + 1])[1:-1]}\",\"blue\"), \"\\n\")\n",
        "    \n",
        "    else:\n",
        "      print (\"Máximo subarreglo que pasa por el medio: \", colored(f\"{str(arr[low: high])[1:-1]}\",\"blue\"), \"\\n\")\n",
        "\n",
        "  return ((maxLeft + maxRight), low, high)\n",
        "\n",
        "# Función que obtiene el máximo subarreglo de manera recursiva.\n",
        "def maxSubArray(arr, low, high, verbose):\n",
        "  n = len (arr)\n",
        "  \n",
        "  # Caso base.\n",
        "  if (n == 1):\n",
        "    return (arr[0], low, low)\n",
        "\n",
        "  # Se obtiene la mitad.\n",
        "  mid = n//2\n",
        "\n",
        "  # Subarreglo Izquierdo y derecho.\n",
        "  leftArr = arr[: mid]\n",
        "  rightArr = arr[mid : ]\n",
        "\n",
        "  # Si verbose es True se muestran los subarreglos.\n",
        "  if (verbose == True):\n",
        "        print(\"SubArreglo Izquierdo: \", leftArr)\n",
        "        print(\"SubArreglo Derecho: \", rightArr, \"\\n\")\n",
        "  \n",
        "  # Se obtiene la suma máxima del subarreglo izquierdo y el indice de comienzo y fin.\n",
        "  maxLeft, lowLeft, highLeft = maxSubArray(leftArr, low, mid - 1, verbose)\n",
        "  \n",
        "  # Se obtiene la suma máxima del subarreglo derecho y el indice de comienzo y fin.\n",
        "  maxRight, lowRight, highRight = maxSubArray(rightArr, mid + 1, high, verbose)\n",
        "  \n",
        "  # Se obtiene la suma máxima del subarreglo que pasa por el centro.\n",
        "  # y el indice de comienzo y fin.\n",
        "  maxMid, lowMid, highMid = maxMidSubArray(arr, mid, verbose)\n",
        "\n",
        "  # Se obtiene la máxima suma.\n",
        "  maxSum = max (maxLeft, maxRight, maxMid)\n",
        "  \n",
        "  # Si el suma maxima es el subarreglo que pasa por el medio.\n",
        "  if (maxSum == maxMid): \n",
        "    return maxSum, lowMid, highMid\n",
        "\n",
        "  # Si el suma maxima es el subarreglo de la derecha.\n",
        "  elif (maxSum == maxRight):\n",
        "    return maxSum, lowRight, highRight\n",
        "\n",
        "  # Si el suma maxima es el subarreglo de la izquierda.\n",
        "  elif (maxSum == maxLeft):\n",
        "    return maxSum, lowLeft, highLeft\n",
        "\n",
        "a = random.sample(range(-100, 100), 6)\n",
        "print(\"Arreglo de entrada: \", a)\n",
        "b, i, j = maxSubArray(a, 0, len(a) - 1, verbose = True)\n",
        "print (\"La suma maxima es: \", b)\n",
        "print (\"El arreglo comienza en la posición\", i, \"y termina en la posición\", j)\n"
      ]
    }
  ]
}